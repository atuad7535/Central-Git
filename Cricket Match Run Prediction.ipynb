{
 "cells": [
  {
   "cell_type": "code",
   "execution_count": 1,
   "id": "87a7a2c1",
   "metadata": {},
   "outputs": [],
   "source": [
    "import pandas as pd\n",
    "import numpy as np\n",
    "import matplotlib.pyplot as plt\n",
    "import seaborn as sns\n",
    "%matplotlib inline"
   ]
  },
  {
   "cell_type": "code",
   "execution_count": 2,
   "id": "01c4a70d",
   "metadata": {},
   "outputs": [],
   "source": [
    "cricket_df = pd.read_csv(\"D:/ODI data.csv\")"
   ]
  },
  {
   "cell_type": "code",
   "execution_count": 3,
   "id": "11de3fa1",
   "metadata": {},
   "outputs": [
    {
     "data": {
      "text/html": [
       "<div>\n",
       "<style scoped>\n",
       "    .dataframe tbody tr th:only-of-type {\n",
       "        vertical-align: middle;\n",
       "    }\n",
       "\n",
       "    .dataframe tbody tr th {\n",
       "        vertical-align: top;\n",
       "    }\n",
       "\n",
       "    .dataframe thead th {\n",
       "        text-align: right;\n",
       "    }\n",
       "</style>\n",
       "<table border=\"1\" class=\"dataframe\">\n",
       "  <thead>\n",
       "    <tr style=\"text-align: right;\">\n",
       "      <th></th>\n",
       "      <th>Player</th>\n",
       "      <th>Span</th>\n",
       "      <th>Mat</th>\n",
       "      <th>Inns</th>\n",
       "      <th>NO</th>\n",
       "      <th>Runs</th>\n",
       "      <th>HS</th>\n",
       "      <th>Ave</th>\n",
       "      <th>BF</th>\n",
       "      <th>SR</th>\n",
       "      <th>100</th>\n",
       "      <th>50</th>\n",
       "      <th>0</th>\n",
       "    </tr>\n",
       "  </thead>\n",
       "  <tbody>\n",
       "    <tr>\n",
       "      <th>0</th>\n",
       "      <td>SR Tendulkar (INDIA)</td>\n",
       "      <td>1989-2012</td>\n",
       "      <td>463</td>\n",
       "      <td>452</td>\n",
       "      <td>41</td>\n",
       "      <td>18426</td>\n",
       "      <td>200*</td>\n",
       "      <td>44.83</td>\n",
       "      <td>21367</td>\n",
       "      <td>86.23</td>\n",
       "      <td>49</td>\n",
       "      <td>96</td>\n",
       "      <td>20</td>\n",
       "    </tr>\n",
       "    <tr>\n",
       "      <th>1</th>\n",
       "      <td>KC Sangakkara (Asia/ICC/SL)</td>\n",
       "      <td>2000-2015</td>\n",
       "      <td>404</td>\n",
       "      <td>380</td>\n",
       "      <td>41</td>\n",
       "      <td>14234</td>\n",
       "      <td>169</td>\n",
       "      <td>41.98</td>\n",
       "      <td>18048</td>\n",
       "      <td>78.86</td>\n",
       "      <td>25</td>\n",
       "      <td>93</td>\n",
       "      <td>15</td>\n",
       "    </tr>\n",
       "    <tr>\n",
       "      <th>2</th>\n",
       "      <td>RT Ponting (AUS/ICC)</td>\n",
       "      <td>1995-2012</td>\n",
       "      <td>375</td>\n",
       "      <td>365</td>\n",
       "      <td>39</td>\n",
       "      <td>13704</td>\n",
       "      <td>164</td>\n",
       "      <td>42.03</td>\n",
       "      <td>17046</td>\n",
       "      <td>80.39</td>\n",
       "      <td>30</td>\n",
       "      <td>82</td>\n",
       "      <td>20</td>\n",
       "    </tr>\n",
       "    <tr>\n",
       "      <th>3</th>\n",
       "      <td>ST Jayasuriya (Asia/SL)</td>\n",
       "      <td>1989-2011</td>\n",
       "      <td>445</td>\n",
       "      <td>433</td>\n",
       "      <td>18</td>\n",
       "      <td>13430</td>\n",
       "      <td>189</td>\n",
       "      <td>32.36</td>\n",
       "      <td>14725</td>\n",
       "      <td>91.2</td>\n",
       "      <td>28</td>\n",
       "      <td>68</td>\n",
       "      <td>34</td>\n",
       "    </tr>\n",
       "    <tr>\n",
       "      <th>4</th>\n",
       "      <td>DPMD Jayawardene (Asia/SL)</td>\n",
       "      <td>1998-2015</td>\n",
       "      <td>448</td>\n",
       "      <td>418</td>\n",
       "      <td>39</td>\n",
       "      <td>12650</td>\n",
       "      <td>144</td>\n",
       "      <td>33.37</td>\n",
       "      <td>16020</td>\n",
       "      <td>78.96</td>\n",
       "      <td>19</td>\n",
       "      <td>77</td>\n",
       "      <td>28</td>\n",
       "    </tr>\n",
       "  </tbody>\n",
       "</table>\n",
       "</div>"
      ],
      "text/plain": [
       "                        Player       Span  Mat Inns  NO   Runs    HS    Ave  \\\n",
       "0         SR Tendulkar (INDIA)  1989-2012  463  452  41  18426  200*  44.83   \n",
       "1  KC Sangakkara (Asia/ICC/SL)  2000-2015  404  380  41  14234   169  41.98   \n",
       "2         RT Ponting (AUS/ICC)  1995-2012  375  365  39  13704   164  42.03   \n",
       "3      ST Jayasuriya (Asia/SL)  1989-2011  445  433  18  13430   189  32.36   \n",
       "4   DPMD Jayawardene (Asia/SL)  1998-2015  448  418  39  12650   144  33.37   \n",
       "\n",
       "      BF     SR 100  50   0  \n",
       "0  21367  86.23  49  96  20  \n",
       "1  18048  78.86  25  93  15  \n",
       "2  17046  80.39  30  82  20  \n",
       "3  14725   91.2  28  68  34  \n",
       "4  16020  78.96  19  77  28  "
      ]
     },
     "execution_count": 3,
     "metadata": {},
     "output_type": "execute_result"
    }
   ],
   "source": [
    "cricket_df.head()"
   ]
  },
  {
   "cell_type": "code",
   "execution_count": 4,
   "id": "a509f8a1",
   "metadata": {},
   "outputs": [
    {
     "name": "stdout",
     "output_type": "stream",
     "text": [
      "<class 'pandas.core.frame.DataFrame'>\n",
      "RangeIndex: 2500 entries, 0 to 2499\n",
      "Data columns (total 13 columns):\n",
      " #   Column  Non-Null Count  Dtype \n",
      "---  ------  --------------  ----- \n",
      " 0   Player  2500 non-null   object\n",
      " 1   Span    2500 non-null   object\n",
      " 2   Mat     2500 non-null   int64 \n",
      " 3   Inns    2500 non-null   object\n",
      " 4   NO      2500 non-null   object\n",
      " 5   Runs    2500 non-null   object\n",
      " 6   HS      2500 non-null   object\n",
      " 7   Ave     2500 non-null   object\n",
      " 8   BF      2500 non-null   object\n",
      " 9   SR      2500 non-null   object\n",
      " 10  100     2500 non-null   object\n",
      " 11  50      2500 non-null   object\n",
      " 12  0       2500 non-null   object\n",
      "dtypes: int64(1), object(12)\n",
      "memory usage: 254.0+ KB\n"
     ]
    }
   ],
   "source": [
    "cricket_df.info()"
   ]
  },
  {
   "cell_type": "code",
   "execution_count": 5,
   "id": "e9e4758b",
   "metadata": {},
   "outputs": [
    {
     "data": {
      "text/plain": [
       "Index(['Player', 'Span', 'Mat', 'Inns', 'NO', 'Runs', 'HS', 'Ave', 'BF', 'SR',\n",
       "       '100', '50', '0'],\n",
       "      dtype='object')"
      ]
     },
     "execution_count": 5,
     "metadata": {},
     "output_type": "execute_result"
    }
   ],
   "source": [
    "cricket_df.columns"
   ]
  },
  {
   "cell_type": "code",
   "execution_count": 6,
   "id": "0ea34092",
   "metadata": {},
   "outputs": [
    {
     "data": {
      "text/plain": [
       "Player    0\n",
       "Span      0\n",
       "Mat       0\n",
       "Inns      0\n",
       "NO        0\n",
       "Runs      0\n",
       "HS        0\n",
       "Ave       0\n",
       "BF        0\n",
       "SR        0\n",
       "100       0\n",
       "50        0\n",
       "0         0\n",
       "dtype: int64"
      ]
     },
     "execution_count": 6,
     "metadata": {},
     "output_type": "execute_result"
    }
   ],
   "source": [
    "cricket_df.isnull().sum()"
   ]
  },
  {
   "cell_type": "code",
   "execution_count": 7,
   "id": "ee9bb795",
   "metadata": {},
   "outputs": [
    {
     "data": {
      "text/html": [
       "<div>\n",
       "<style scoped>\n",
       "    .dataframe tbody tr th:only-of-type {\n",
       "        vertical-align: middle;\n",
       "    }\n",
       "\n",
       "    .dataframe tbody tr th {\n",
       "        vertical-align: top;\n",
       "    }\n",
       "\n",
       "    .dataframe thead th {\n",
       "        text-align: right;\n",
       "    }\n",
       "</style>\n",
       "<table border=\"1\" class=\"dataframe\">\n",
       "  <thead>\n",
       "    <tr style=\"text-align: right;\">\n",
       "      <th></th>\n",
       "      <th>Player</th>\n",
       "      <th>Span</th>\n",
       "      <th>Mat</th>\n",
       "      <th>Inns</th>\n",
       "      <th>NO</th>\n",
       "      <th>Runs</th>\n",
       "      <th>HS</th>\n",
       "      <th>Ave</th>\n",
       "      <th>BF</th>\n",
       "      <th>SR</th>\n",
       "      <th>100</th>\n",
       "      <th>50</th>\n",
       "      <th>0</th>\n",
       "    </tr>\n",
       "  </thead>\n",
       "  <tbody>\n",
       "    <tr>\n",
       "      <th>1466</th>\n",
       "      <td>BT Foakes (ENG)</td>\n",
       "      <td>2019-2019</td>\n",
       "      <td>1</td>\n",
       "      <td>1</td>\n",
       "      <td>1</td>\n",
       "      <td>61</td>\n",
       "      <td>61*</td>\n",
       "      <td>-</td>\n",
       "      <td>76</td>\n",
       "      <td>80.26</td>\n",
       "      <td>0</td>\n",
       "      <td>1</td>\n",
       "      <td>0</td>\n",
       "    </tr>\n",
       "    <tr>\n",
       "      <th>1493</th>\n",
       "      <td>BM Wheeler (NZ)</td>\n",
       "      <td>2015-2015</td>\n",
       "      <td>6</td>\n",
       "      <td>4</td>\n",
       "      <td>4</td>\n",
       "      <td>58</td>\n",
       "      <td>39*</td>\n",
       "      <td>-</td>\n",
       "      <td>47</td>\n",
       "      <td>123.4</td>\n",
       "      <td>0</td>\n",
       "      <td>0</td>\n",
       "      <td>0</td>\n",
       "    </tr>\n",
       "    <tr>\n",
       "      <th>1508</th>\n",
       "      <td>FY Fazal (INDIA)</td>\n",
       "      <td>2016-2016</td>\n",
       "      <td>1</td>\n",
       "      <td>1</td>\n",
       "      <td>1</td>\n",
       "      <td>55</td>\n",
       "      <td>55*</td>\n",
       "      <td>-</td>\n",
       "      <td>61</td>\n",
       "      <td>90.16</td>\n",
       "      <td>0</td>\n",
       "      <td>1</td>\n",
       "      <td>0</td>\n",
       "    </tr>\n",
       "    <tr>\n",
       "      <th>1570</th>\n",
       "      <td>SS Tiwary (INDIA)</td>\n",
       "      <td>2010-2010</td>\n",
       "      <td>3</td>\n",
       "      <td>2</td>\n",
       "      <td>2</td>\n",
       "      <td>49</td>\n",
       "      <td>37*</td>\n",
       "      <td>-</td>\n",
       "      <td>56</td>\n",
       "      <td>87.5</td>\n",
       "      <td>0</td>\n",
       "      <td>0</td>\n",
       "      <td>0</td>\n",
       "    </tr>\n",
       "    <tr>\n",
       "      <th>1682</th>\n",
       "      <td>TS Roland-Jones (ENG)</td>\n",
       "      <td>2017-2017</td>\n",
       "      <td>1</td>\n",
       "      <td>1</td>\n",
       "      <td>1</td>\n",
       "      <td>37</td>\n",
       "      <td>37*</td>\n",
       "      <td>-</td>\n",
       "      <td>37</td>\n",
       "      <td>100</td>\n",
       "      <td>0</td>\n",
       "      <td>0</td>\n",
       "      <td>0</td>\n",
       "    </tr>\n",
       "    <tr>\n",
       "      <th>...</th>\n",
       "      <td>...</td>\n",
       "      <td>...</td>\n",
       "      <td>...</td>\n",
       "      <td>...</td>\n",
       "      <td>...</td>\n",
       "      <td>...</td>\n",
       "      <td>...</td>\n",
       "      <td>...</td>\n",
       "      <td>...</td>\n",
       "      <td>...</td>\n",
       "      <td>...</td>\n",
       "      <td>...</td>\n",
       "      <td>...</td>\n",
       "    </tr>\n",
       "    <tr>\n",
       "      <th>2495</th>\n",
       "      <td>ZS Ansari (ENG)</td>\n",
       "      <td>2015-2015</td>\n",
       "      <td>1</td>\n",
       "      <td>-</td>\n",
       "      <td>-</td>\n",
       "      <td>-</td>\n",
       "      <td>-</td>\n",
       "      <td>-</td>\n",
       "      <td>-</td>\n",
       "      <td>-</td>\n",
       "      <td>-</td>\n",
       "      <td>-</td>\n",
       "      <td>-</td>\n",
       "    </tr>\n",
       "    <tr>\n",
       "      <th>2496</th>\n",
       "      <td>Ariful Haque (BDESH)</td>\n",
       "      <td>2018-2018</td>\n",
       "      <td>1</td>\n",
       "      <td>-</td>\n",
       "      <td>-</td>\n",
       "      <td>-</td>\n",
       "      <td>-</td>\n",
       "      <td>-</td>\n",
       "      <td>-</td>\n",
       "      <td>-</td>\n",
       "      <td>-</td>\n",
       "      <td>-</td>\n",
       "      <td>-</td>\n",
       "    </tr>\n",
       "    <tr>\n",
       "      <th>2497</th>\n",
       "      <td>Ashfaq Ahmed (PAK)</td>\n",
       "      <td>1994-1994</td>\n",
       "      <td>3</td>\n",
       "      <td>-</td>\n",
       "      <td>-</td>\n",
       "      <td>-</td>\n",
       "      <td>-</td>\n",
       "      <td>-</td>\n",
       "      <td>-</td>\n",
       "      <td>-</td>\n",
       "      <td>-</td>\n",
       "      <td>-</td>\n",
       "      <td>-</td>\n",
       "    </tr>\n",
       "    <tr>\n",
       "      <th>2498</th>\n",
       "      <td>MD Bailey (NZ)</td>\n",
       "      <td>1998-1998</td>\n",
       "      <td>1</td>\n",
       "      <td>-</td>\n",
       "      <td>-</td>\n",
       "      <td>-</td>\n",
       "      <td>-</td>\n",
       "      <td>-</td>\n",
       "      <td>-</td>\n",
       "      <td>-</td>\n",
       "      <td>-</td>\n",
       "      <td>-</td>\n",
       "      <td>-</td>\n",
       "    </tr>\n",
       "    <tr>\n",
       "      <th>2499</th>\n",
       "      <td>GR Beard (AUS)</td>\n",
       "      <td>1981-1981</td>\n",
       "      <td>2</td>\n",
       "      <td>-</td>\n",
       "      <td>-</td>\n",
       "      <td>-</td>\n",
       "      <td>-</td>\n",
       "      <td>-</td>\n",
       "      <td>-</td>\n",
       "      <td>-</td>\n",
       "      <td>-</td>\n",
       "      <td>-</td>\n",
       "      <td>-</td>\n",
       "    </tr>\n",
       "  </tbody>\n",
       "</table>\n",
       "<p>130 rows × 13 columns</p>\n",
       "</div>"
      ],
      "text/plain": [
       "                     Player       Span  Mat Inns NO Runs   HS Ave  BF     SR  \\\n",
       "1466        BT Foakes (ENG)  2019-2019    1    1  1   61  61*   -  76  80.26   \n",
       "1493        BM Wheeler (NZ)  2015-2015    6    4  4   58  39*   -  47  123.4   \n",
       "1508       FY Fazal (INDIA)  2016-2016    1    1  1   55  55*   -  61  90.16   \n",
       "1570      SS Tiwary (INDIA)  2010-2010    3    2  2   49  37*   -  56   87.5   \n",
       "1682  TS Roland-Jones (ENG)  2017-2017    1    1  1   37  37*   -  37    100   \n",
       "...                     ...        ...  ...  ... ..  ...  ...  ..  ..    ...   \n",
       "2495        ZS Ansari (ENG)  2015-2015    1    -  -    -    -   -   -      -   \n",
       "2496   Ariful Haque (BDESH)  2018-2018    1    -  -    -    -   -   -      -   \n",
       "2497     Ashfaq Ahmed (PAK)  1994-1994    3    -  -    -    -   -   -      -   \n",
       "2498         MD Bailey (NZ)  1998-1998    1    -  -    -    -   -   -      -   \n",
       "2499         GR Beard (AUS)  1981-1981    2    -  -    -    -   -   -      -   \n",
       "\n",
       "     100 50  0  \n",
       "1466   0  1  0  \n",
       "1493   0  0  0  \n",
       "1508   0  1  0  \n",
       "1570   0  0  0  \n",
       "1682   0  0  0  \n",
       "...   .. .. ..  \n",
       "2495   -  -  -  \n",
       "2496   -  -  -  \n",
       "2497   -  -  -  \n",
       "2498   -  -  -  \n",
       "2499   -  -  -  \n",
       "\n",
       "[130 rows x 13 columns]"
      ]
     },
     "execution_count": 7,
     "metadata": {},
     "output_type": "execute_result"
    }
   ],
   "source": [
    "cricket_df[cricket_df[\"Ave\"]== \"-\"] "
   ]
  },
  {
   "cell_type": "code",
   "execution_count": 8,
   "id": "dbf2aee5",
   "metadata": {},
   "outputs": [
    {
     "data": {
      "text/plain": [
       "(2500, 13)"
      ]
     },
     "execution_count": 8,
     "metadata": {},
     "output_type": "execute_result"
    }
   ],
   "source": [
    "cricket_df.shape"
   ]
  },
  {
   "cell_type": "code",
   "execution_count": 9,
   "id": "ef0e330d",
   "metadata": {},
   "outputs": [],
   "source": [
    "cricket_df.replace('-',1,inplace=True)"
   ]
  },
  {
   "cell_type": "code",
   "execution_count": 10,
   "id": "f64cc4b0",
   "metadata": {},
   "outputs": [
    {
     "data": {
      "text/html": [
       "<div>\n",
       "<style scoped>\n",
       "    .dataframe tbody tr th:only-of-type {\n",
       "        vertical-align: middle;\n",
       "    }\n",
       "\n",
       "    .dataframe tbody tr th {\n",
       "        vertical-align: top;\n",
       "    }\n",
       "\n",
       "    .dataframe thead th {\n",
       "        text-align: right;\n",
       "    }\n",
       "</style>\n",
       "<table border=\"1\" class=\"dataframe\">\n",
       "  <thead>\n",
       "    <tr style=\"text-align: right;\">\n",
       "      <th></th>\n",
       "      <th>Player</th>\n",
       "      <th>Span</th>\n",
       "      <th>Mat</th>\n",
       "      <th>Inns</th>\n",
       "      <th>NO</th>\n",
       "      <th>Runs</th>\n",
       "      <th>HS</th>\n",
       "      <th>Ave</th>\n",
       "      <th>BF</th>\n",
       "      <th>SR</th>\n",
       "      <th>100</th>\n",
       "      <th>50</th>\n",
       "      <th>0</th>\n",
       "    </tr>\n",
       "  </thead>\n",
       "  <tbody>\n",
       "  </tbody>\n",
       "</table>\n",
       "</div>"
      ],
      "text/plain": [
       "Empty DataFrame\n",
       "Columns: [Player, Span, Mat, Inns, NO, Runs, HS, Ave, BF, SR, 100, 50, 0]\n",
       "Index: []"
      ]
     },
     "execution_count": 10,
     "metadata": {},
     "output_type": "execute_result"
    }
   ],
   "source": [
    "cricket_df[cricket_df[\"Ave\"]== \"-\"] "
   ]
  },
  {
   "cell_type": "code",
   "execution_count": 11,
   "id": "ec637858",
   "metadata": {},
   "outputs": [
    {
     "data": {
      "text/html": [
       "<div>\n",
       "<style scoped>\n",
       "    .dataframe tbody tr th:only-of-type {\n",
       "        vertical-align: middle;\n",
       "    }\n",
       "\n",
       "    .dataframe tbody tr th {\n",
       "        vertical-align: top;\n",
       "    }\n",
       "\n",
       "    .dataframe thead th {\n",
       "        text-align: right;\n",
       "    }\n",
       "</style>\n",
       "<table border=\"1\" class=\"dataframe\">\n",
       "  <thead>\n",
       "    <tr style=\"text-align: right;\">\n",
       "      <th></th>\n",
       "      <th>Player</th>\n",
       "      <th>Span</th>\n",
       "      <th>Mat</th>\n",
       "      <th>Inns</th>\n",
       "      <th>NO</th>\n",
       "      <th>Runs</th>\n",
       "      <th>HS</th>\n",
       "      <th>Ave</th>\n",
       "      <th>BF</th>\n",
       "      <th>SR</th>\n",
       "      <th>100</th>\n",
       "      <th>50</th>\n",
       "      <th>0</th>\n",
       "    </tr>\n",
       "  </thead>\n",
       "  <tbody>\n",
       "    <tr>\n",
       "      <th>0</th>\n",
       "      <td>SR Tendulkar (INDIA)</td>\n",
       "      <td>1989-2012</td>\n",
       "      <td>463</td>\n",
       "      <td>452</td>\n",
       "      <td>41</td>\n",
       "      <td>18426</td>\n",
       "      <td>200*</td>\n",
       "      <td>44.83</td>\n",
       "      <td>21367</td>\n",
       "      <td>86.23</td>\n",
       "      <td>49</td>\n",
       "      <td>96</td>\n",
       "      <td>20</td>\n",
       "    </tr>\n",
       "    <tr>\n",
       "      <th>1</th>\n",
       "      <td>KC Sangakkara (Asia/ICC/SL)</td>\n",
       "      <td>2000-2015</td>\n",
       "      <td>404</td>\n",
       "      <td>380</td>\n",
       "      <td>41</td>\n",
       "      <td>14234</td>\n",
       "      <td>169</td>\n",
       "      <td>41.98</td>\n",
       "      <td>18048</td>\n",
       "      <td>78.86</td>\n",
       "      <td>25</td>\n",
       "      <td>93</td>\n",
       "      <td>15</td>\n",
       "    </tr>\n",
       "    <tr>\n",
       "      <th>2</th>\n",
       "      <td>RT Ponting (AUS/ICC)</td>\n",
       "      <td>1995-2012</td>\n",
       "      <td>375</td>\n",
       "      <td>365</td>\n",
       "      <td>39</td>\n",
       "      <td>13704</td>\n",
       "      <td>164</td>\n",
       "      <td>42.03</td>\n",
       "      <td>17046</td>\n",
       "      <td>80.39</td>\n",
       "      <td>30</td>\n",
       "      <td>82</td>\n",
       "      <td>20</td>\n",
       "    </tr>\n",
       "    <tr>\n",
       "      <th>3</th>\n",
       "      <td>ST Jayasuriya (Asia/SL)</td>\n",
       "      <td>1989-2011</td>\n",
       "      <td>445</td>\n",
       "      <td>433</td>\n",
       "      <td>18</td>\n",
       "      <td>13430</td>\n",
       "      <td>189</td>\n",
       "      <td>32.36</td>\n",
       "      <td>14725</td>\n",
       "      <td>91.2</td>\n",
       "      <td>28</td>\n",
       "      <td>68</td>\n",
       "      <td>34</td>\n",
       "    </tr>\n",
       "    <tr>\n",
       "      <th>4</th>\n",
       "      <td>DPMD Jayawardene (Asia/SL)</td>\n",
       "      <td>1998-2015</td>\n",
       "      <td>448</td>\n",
       "      <td>418</td>\n",
       "      <td>39</td>\n",
       "      <td>12650</td>\n",
       "      <td>144</td>\n",
       "      <td>33.37</td>\n",
       "      <td>16020</td>\n",
       "      <td>78.96</td>\n",
       "      <td>19</td>\n",
       "      <td>77</td>\n",
       "      <td>28</td>\n",
       "    </tr>\n",
       "  </tbody>\n",
       "</table>\n",
       "</div>"
      ],
      "text/plain": [
       "                        Player       Span  Mat Inns  NO   Runs    HS    Ave  \\\n",
       "0         SR Tendulkar (INDIA)  1989-2012  463  452  41  18426  200*  44.83   \n",
       "1  KC Sangakkara (Asia/ICC/SL)  2000-2015  404  380  41  14234   169  41.98   \n",
       "2         RT Ponting (AUS/ICC)  1995-2012  375  365  39  13704   164  42.03   \n",
       "3      ST Jayasuriya (Asia/SL)  1989-2011  445  433  18  13430   189  32.36   \n",
       "4   DPMD Jayawardene (Asia/SL)  1998-2015  448  418  39  12650   144  33.37   \n",
       "\n",
       "      BF     SR 100  50   0  \n",
       "0  21367  86.23  49  96  20  \n",
       "1  18048  78.86  25  93  15  \n",
       "2  17046  80.39  30  82  20  \n",
       "3  14725   91.2  28  68  34  \n",
       "4  16020  78.96  19  77  28  "
      ]
     },
     "execution_count": 11,
     "metadata": {},
     "output_type": "execute_result"
    }
   ],
   "source": [
    "cricket_df.head()"
   ]
  },
  {
   "cell_type": "code",
   "execution_count": 12,
   "id": "a97beff0",
   "metadata": {},
   "outputs": [
    {
     "data": {
      "text/plain": [
       "dtype('O')"
      ]
     },
     "execution_count": 12,
     "metadata": {},
     "output_type": "execute_result"
    }
   ],
   "source": [
    "cricket_df.HS.dtypes"
   ]
  },
  {
   "cell_type": "code",
   "execution_count": 13,
   "id": "0075aa02",
   "metadata": {},
   "outputs": [],
   "source": [
    "cricket_df_dummies = pd.get_dummies(cricket_df.Player)\n"
   ]
  },
  {
   "cell_type": "code",
   "execution_count": 14,
   "id": "862d9d83",
   "metadata": {},
   "outputs": [
    {
     "data": {
      "text/plain": [
       "Index(['A Bagai (CAN)', 'A Balbirnie (IRE)', 'A Bhandari (INDIA)',\n",
       "       'A Codrington (CAN)', 'A Dananjaya (SL)', 'A Flintoff (ENG/ICC)',\n",
       "       'A Flower (ZIM)', 'A Jadeja (INDIA)', 'A Kumble (Asia/INDIA)',\n",
       "       'A Kuruvilla (INDIA)',\n",
       "       ...\n",
       "       'Zakir Hossain (BDESH)', 'Zakir Khan (PAK)', 'Zakiullah Zaki (AFG)',\n",
       "       'Zeeshan Maqsood (OMAN)', 'Zeeshan Siddiqi (CAN)',\n",
       "       'Ziaur Rahman (BDESH)', 'Zulfiqar Ali (EAf)', 'Zulfiqar Babar (PAK)',\n",
       "       'Zulqarnain (PAK)', 'Zulqarnain Haider (PAK)'],\n",
       "      dtype='object', length=2499)"
      ]
     },
     "execution_count": 14,
     "metadata": {},
     "output_type": "execute_result"
    }
   ],
   "source": [
    "cricket_df_dummies.columns"
   ]
  },
  {
   "cell_type": "code",
   "execution_count": 15,
   "id": "ec6c93f7",
   "metadata": {},
   "outputs": [
    {
     "name": "stdout",
     "output_type": "stream",
     "text": [
      "      A Bagai (CAN)  A Balbirnie (IRE)  A Bhandari (INDIA)  \\\n",
      "0                 0                  0                   0   \n",
      "1                 0                  0                   0   \n",
      "2                 0                  0                   0   \n",
      "3                 0                  0                   0   \n",
      "4                 0                  0                   0   \n",
      "...             ...                ...                 ...   \n",
      "2495              0                  0                   0   \n",
      "2496              0                  0                   0   \n",
      "2497              0                  0                   0   \n",
      "2498              0                  0                   0   \n",
      "2499              0                  0                   0   \n",
      "\n",
      "      A Codrington (CAN)  A Dananjaya (SL)  A Flintoff (ENG/ICC)  \\\n",
      "0                      0                 0                     0   \n",
      "1                      0                 0                     0   \n",
      "2                      0                 0                     0   \n",
      "3                      0                 0                     0   \n",
      "4                      0                 0                     0   \n",
      "...                  ...               ...                   ...   \n",
      "2495                   0                 0                     0   \n",
      "2496                   0                 0                     0   \n",
      "2497                   0                 0                     0   \n",
      "2498                   0                 0                     0   \n",
      "2499                   0                 0                     0   \n",
      "\n",
      "      A Flower (ZIM)  A Jadeja (INDIA)  A Kumble (Asia/INDIA)  \\\n",
      "0                  0                 0                      0   \n",
      "1                  0                 0                      0   \n",
      "2                  0                 0                      0   \n",
      "3                  0                 0                      0   \n",
      "4                  0                 0                      0   \n",
      "...              ...               ...                    ...   \n",
      "2495               0                 0                      0   \n",
      "2496               0                 0                      0   \n",
      "2497               0                 0                      0   \n",
      "2498               0                 0                      0   \n",
      "2499               0                 0                      0   \n",
      "\n",
      "      A Kuruvilla (INDIA)  ...  Zakir Hossain (BDESH)  Zakir Khan (PAK)  \\\n",
      "0                       0  ...                      0                 0   \n",
      "1                       0  ...                      0                 0   \n",
      "2                       0  ...                      0                 0   \n",
      "3                       0  ...                      0                 0   \n",
      "4                       0  ...                      0                 0   \n",
      "...                   ...  ...                    ...               ...   \n",
      "2495                    0  ...                      0                 0   \n",
      "2496                    0  ...                      0                 0   \n",
      "2497                    0  ...                      0                 0   \n",
      "2498                    0  ...                      0                 0   \n",
      "2499                    0  ...                      0                 0   \n",
      "\n",
      "      Zakiullah Zaki (AFG)  Zeeshan Maqsood (OMAN)  Zeeshan Siddiqi (CAN)  \\\n",
      "0                        0                       0                      0   \n",
      "1                        0                       0                      0   \n",
      "2                        0                       0                      0   \n",
      "3                        0                       0                      0   \n",
      "4                        0                       0                      0   \n",
      "...                    ...                     ...                    ...   \n",
      "2495                     0                       0                      0   \n",
      "2496                     0                       0                      0   \n",
      "2497                     0                       0                      0   \n",
      "2498                     0                       0                      0   \n",
      "2499                     0                       0                      0   \n",
      "\n",
      "      Ziaur Rahman (BDESH)  Zulfiqar Ali (EAf)  Zulfiqar Babar (PAK)  \\\n",
      "0                        0                   0                     0   \n",
      "1                        0                   0                     0   \n",
      "2                        0                   0                     0   \n",
      "3                        0                   0                     0   \n",
      "4                        0                   0                     0   \n",
      "...                    ...                 ...                   ...   \n",
      "2495                     0                   0                     0   \n",
      "2496                     0                   0                     0   \n",
      "2497                     0                   0                     0   \n",
      "2498                     0                   0                     0   \n",
      "2499                     0                   0                     0   \n",
      "\n",
      "      Zulqarnain (PAK)  Zulqarnain Haider (PAK)  \n",
      "0                    0                        0  \n",
      "1                    0                        0  \n",
      "2                    0                        0  \n",
      "3                    0                        0  \n",
      "4                    0                        0  \n",
      "...                ...                      ...  \n",
      "2495                 0                        0  \n",
      "2496                 0                        0  \n",
      "2497                 0                        0  \n",
      "2498                 0                        0  \n",
      "2499                 0                        0  \n",
      "\n",
      "[2500 rows x 2499 columns]\n"
     ]
    }
   ],
   "source": [
    "print(cricket_df_dummies)"
   ]
  },
  {
   "cell_type": "code",
   "execution_count": 16,
   "id": "d78a216b",
   "metadata": {},
   "outputs": [
    {
     "data": {
      "text/plain": [
       "0    2499\n",
       "1       1\n",
       "Name: SR Tendulkar (INDIA), dtype: int64"
      ]
     },
     "execution_count": 16,
     "metadata": {},
     "output_type": "execute_result"
    }
   ],
   "source": [
    "cricket_df_dummies['SR Tendulkar (INDIA)'].value_counts()"
   ]
  },
  {
   "cell_type": "code",
   "execution_count": 17,
   "id": "c964e35d",
   "metadata": {},
   "outputs": [],
   "source": [
    "cricket_df.Ave = cricket_df.Ave.astype(float)"
   ]
  },
  {
   "cell_type": "code",
   "execution_count": 18,
   "id": "d1c66ea6",
   "metadata": {},
   "outputs": [
    {
     "data": {
      "text/plain": [
       "Index(['Player', 'Span', 'Mat', 'Inns', 'NO', 'Runs', 'HS', 'Ave', 'BF', 'SR',\n",
       "       '100', '50', '0'],\n",
       "      dtype='object')"
      ]
     },
     "execution_count": 18,
     "metadata": {},
     "output_type": "execute_result"
    }
   ],
   "source": [
    "cricket_df.columns"
   ]
  },
  {
   "cell_type": "code",
   "execution_count": 19,
   "id": "93efda4f",
   "metadata": {},
   "outputs": [],
   "source": [
    "cricket_df.Inns = cricket_df.Inns.astype(int)\n",
    "cricket_df.NO = cricket_df.NO.astype(int)\n",
    "cricket_df.Runs = cricket_df.Runs.astype(int)\n",
    "cricket_df.BF = cricket_df.BF.astype(int)\n",
    "cricket_df.SR = cricket_df.SR.astype(float)\n"
   ]
  },
  {
   "cell_type": "code",
   "execution_count": 20,
   "id": "b055211a",
   "metadata": {},
   "outputs": [],
   "source": [
    "cricket_df = cricket_df.rename(columns={'100': 'Hundereds', '50': 'Fiftys','0':'Zeros'})"
   ]
  },
  {
   "cell_type": "code",
   "execution_count": 21,
   "id": "5388f2f8",
   "metadata": {},
   "outputs": [],
   "source": [
    "cricket_df.Hundereds = cricket_df.Hundereds.astype(float)\n",
    "cricket_df.Fiftys = cricket_df.Fiftys.astype(float)\n",
    "cricket_df.Zeros = cricket_df.Zeros.astype(float)\n"
   ]
  },
  {
   "cell_type": "code",
   "execution_count": 22,
   "id": "cf75a708",
   "metadata": {},
   "outputs": [],
   "source": [
    "cricket_df[\"Run\"] = cricket_df[\"Runs\"]//cricket_df[\"Inns\"]"
   ]
  },
  {
   "cell_type": "code",
   "execution_count": 23,
   "id": "3fc7bfaa",
   "metadata": {},
   "outputs": [
    {
     "data": {
      "text/html": [
       "<div>\n",
       "<style scoped>\n",
       "    .dataframe tbody tr th:only-of-type {\n",
       "        vertical-align: middle;\n",
       "    }\n",
       "\n",
       "    .dataframe tbody tr th {\n",
       "        vertical-align: top;\n",
       "    }\n",
       "\n",
       "    .dataframe thead th {\n",
       "        text-align: right;\n",
       "    }\n",
       "</style>\n",
       "<table border=\"1\" class=\"dataframe\">\n",
       "  <thead>\n",
       "    <tr style=\"text-align: right;\">\n",
       "      <th></th>\n",
       "      <th>Player</th>\n",
       "      <th>Span</th>\n",
       "      <th>Mat</th>\n",
       "      <th>Inns</th>\n",
       "      <th>NO</th>\n",
       "      <th>Runs</th>\n",
       "      <th>HS</th>\n",
       "      <th>Ave</th>\n",
       "      <th>BF</th>\n",
       "      <th>SR</th>\n",
       "      <th>Hundereds</th>\n",
       "      <th>Fiftys</th>\n",
       "      <th>Zeros</th>\n",
       "      <th>Run</th>\n",
       "    </tr>\n",
       "  </thead>\n",
       "  <tbody>\n",
       "    <tr>\n",
       "      <th>0</th>\n",
       "      <td>SR Tendulkar (INDIA)</td>\n",
       "      <td>1989-2012</td>\n",
       "      <td>463</td>\n",
       "      <td>452</td>\n",
       "      <td>41</td>\n",
       "      <td>18426</td>\n",
       "      <td>200*</td>\n",
       "      <td>44.83</td>\n",
       "      <td>21367</td>\n",
       "      <td>86.23</td>\n",
       "      <td>49.0</td>\n",
       "      <td>96.0</td>\n",
       "      <td>20.0</td>\n",
       "      <td>40</td>\n",
       "    </tr>\n",
       "    <tr>\n",
       "      <th>1</th>\n",
       "      <td>KC Sangakkara (Asia/ICC/SL)</td>\n",
       "      <td>2000-2015</td>\n",
       "      <td>404</td>\n",
       "      <td>380</td>\n",
       "      <td>41</td>\n",
       "      <td>14234</td>\n",
       "      <td>169</td>\n",
       "      <td>41.98</td>\n",
       "      <td>18048</td>\n",
       "      <td>78.86</td>\n",
       "      <td>25.0</td>\n",
       "      <td>93.0</td>\n",
       "      <td>15.0</td>\n",
       "      <td>37</td>\n",
       "    </tr>\n",
       "    <tr>\n",
       "      <th>2</th>\n",
       "      <td>RT Ponting (AUS/ICC)</td>\n",
       "      <td>1995-2012</td>\n",
       "      <td>375</td>\n",
       "      <td>365</td>\n",
       "      <td>39</td>\n",
       "      <td>13704</td>\n",
       "      <td>164</td>\n",
       "      <td>42.03</td>\n",
       "      <td>17046</td>\n",
       "      <td>80.39</td>\n",
       "      <td>30.0</td>\n",
       "      <td>82.0</td>\n",
       "      <td>20.0</td>\n",
       "      <td>37</td>\n",
       "    </tr>\n",
       "    <tr>\n",
       "      <th>3</th>\n",
       "      <td>ST Jayasuriya (Asia/SL)</td>\n",
       "      <td>1989-2011</td>\n",
       "      <td>445</td>\n",
       "      <td>433</td>\n",
       "      <td>18</td>\n",
       "      <td>13430</td>\n",
       "      <td>189</td>\n",
       "      <td>32.36</td>\n",
       "      <td>14725</td>\n",
       "      <td>91.20</td>\n",
       "      <td>28.0</td>\n",
       "      <td>68.0</td>\n",
       "      <td>34.0</td>\n",
       "      <td>31</td>\n",
       "    </tr>\n",
       "    <tr>\n",
       "      <th>4</th>\n",
       "      <td>DPMD Jayawardene (Asia/SL)</td>\n",
       "      <td>1998-2015</td>\n",
       "      <td>448</td>\n",
       "      <td>418</td>\n",
       "      <td>39</td>\n",
       "      <td>12650</td>\n",
       "      <td>144</td>\n",
       "      <td>33.37</td>\n",
       "      <td>16020</td>\n",
       "      <td>78.96</td>\n",
       "      <td>19.0</td>\n",
       "      <td>77.0</td>\n",
       "      <td>28.0</td>\n",
       "      <td>30</td>\n",
       "    </tr>\n",
       "  </tbody>\n",
       "</table>\n",
       "</div>"
      ],
      "text/plain": [
       "                        Player       Span  Mat  Inns  NO   Runs    HS    Ave  \\\n",
       "0         SR Tendulkar (INDIA)  1989-2012  463   452  41  18426  200*  44.83   \n",
       "1  KC Sangakkara (Asia/ICC/SL)  2000-2015  404   380  41  14234   169  41.98   \n",
       "2         RT Ponting (AUS/ICC)  1995-2012  375   365  39  13704   164  42.03   \n",
       "3      ST Jayasuriya (Asia/SL)  1989-2011  445   433  18  13430   189  32.36   \n",
       "4   DPMD Jayawardene (Asia/SL)  1998-2015  448   418  39  12650   144  33.37   \n",
       "\n",
       "      BF     SR  Hundereds  Fiftys  Zeros  Run  \n",
       "0  21367  86.23       49.0    96.0   20.0   40  \n",
       "1  18048  78.86       25.0    93.0   15.0   37  \n",
       "2  17046  80.39       30.0    82.0   20.0   37  \n",
       "3  14725  91.20       28.0    68.0   34.0   31  \n",
       "4  16020  78.96       19.0    77.0   28.0   30  "
      ]
     },
     "execution_count": 23,
     "metadata": {},
     "output_type": "execute_result"
    }
   ],
   "source": [
    "cricket_df.head()"
   ]
  },
  {
   "cell_type": "code",
   "execution_count": 24,
   "id": "f67d544a",
   "metadata": {},
   "outputs": [
    {
     "data": {
      "text/html": [
       "<div>\n",
       "<style scoped>\n",
       "    .dataframe tbody tr th:only-of-type {\n",
       "        vertical-align: middle;\n",
       "    }\n",
       "\n",
       "    .dataframe tbody tr th {\n",
       "        vertical-align: top;\n",
       "    }\n",
       "\n",
       "    .dataframe thead th {\n",
       "        text-align: right;\n",
       "    }\n",
       "</style>\n",
       "<table border=\"1\" class=\"dataframe\">\n",
       "  <thead>\n",
       "    <tr style=\"text-align: right;\">\n",
       "      <th></th>\n",
       "      <th>Player</th>\n",
       "      <th>Span</th>\n",
       "      <th>Mat</th>\n",
       "      <th>Inns</th>\n",
       "      <th>NO</th>\n",
       "      <th>Runs</th>\n",
       "      <th>HS</th>\n",
       "      <th>Ave</th>\n",
       "      <th>BF</th>\n",
       "      <th>SR</th>\n",
       "      <th>...</th>\n",
       "      <th>Zakir Hossain (BDESH)</th>\n",
       "      <th>Zakir Khan (PAK)</th>\n",
       "      <th>Zakiullah Zaki (AFG)</th>\n",
       "      <th>Zeeshan Maqsood (OMAN)</th>\n",
       "      <th>Zeeshan Siddiqi (CAN)</th>\n",
       "      <th>Ziaur Rahman (BDESH)</th>\n",
       "      <th>Zulfiqar Ali (EAf)</th>\n",
       "      <th>Zulfiqar Babar (PAK)</th>\n",
       "      <th>Zulqarnain (PAK)</th>\n",
       "      <th>Zulqarnain Haider (PAK)</th>\n",
       "    </tr>\n",
       "  </thead>\n",
       "  <tbody>\n",
       "    <tr>\n",
       "      <th>0</th>\n",
       "      <td>SR Tendulkar (INDIA)</td>\n",
       "      <td>1989-2012</td>\n",
       "      <td>463</td>\n",
       "      <td>452</td>\n",
       "      <td>41</td>\n",
       "      <td>18426</td>\n",
       "      <td>200*</td>\n",
       "      <td>44.83</td>\n",
       "      <td>21367</td>\n",
       "      <td>86.23</td>\n",
       "      <td>...</td>\n",
       "      <td>0</td>\n",
       "      <td>0</td>\n",
       "      <td>0</td>\n",
       "      <td>0</td>\n",
       "      <td>0</td>\n",
       "      <td>0</td>\n",
       "      <td>0</td>\n",
       "      <td>0</td>\n",
       "      <td>0</td>\n",
       "      <td>0</td>\n",
       "    </tr>\n",
       "    <tr>\n",
       "      <th>1</th>\n",
       "      <td>KC Sangakkara (Asia/ICC/SL)</td>\n",
       "      <td>2000-2015</td>\n",
       "      <td>404</td>\n",
       "      <td>380</td>\n",
       "      <td>41</td>\n",
       "      <td>14234</td>\n",
       "      <td>169</td>\n",
       "      <td>41.98</td>\n",
       "      <td>18048</td>\n",
       "      <td>78.86</td>\n",
       "      <td>...</td>\n",
       "      <td>0</td>\n",
       "      <td>0</td>\n",
       "      <td>0</td>\n",
       "      <td>0</td>\n",
       "      <td>0</td>\n",
       "      <td>0</td>\n",
       "      <td>0</td>\n",
       "      <td>0</td>\n",
       "      <td>0</td>\n",
       "      <td>0</td>\n",
       "    </tr>\n",
       "    <tr>\n",
       "      <th>2</th>\n",
       "      <td>RT Ponting (AUS/ICC)</td>\n",
       "      <td>1995-2012</td>\n",
       "      <td>375</td>\n",
       "      <td>365</td>\n",
       "      <td>39</td>\n",
       "      <td>13704</td>\n",
       "      <td>164</td>\n",
       "      <td>42.03</td>\n",
       "      <td>17046</td>\n",
       "      <td>80.39</td>\n",
       "      <td>...</td>\n",
       "      <td>0</td>\n",
       "      <td>0</td>\n",
       "      <td>0</td>\n",
       "      <td>0</td>\n",
       "      <td>0</td>\n",
       "      <td>0</td>\n",
       "      <td>0</td>\n",
       "      <td>0</td>\n",
       "      <td>0</td>\n",
       "      <td>0</td>\n",
       "    </tr>\n",
       "    <tr>\n",
       "      <th>3</th>\n",
       "      <td>ST Jayasuriya (Asia/SL)</td>\n",
       "      <td>1989-2011</td>\n",
       "      <td>445</td>\n",
       "      <td>433</td>\n",
       "      <td>18</td>\n",
       "      <td>13430</td>\n",
       "      <td>189</td>\n",
       "      <td>32.36</td>\n",
       "      <td>14725</td>\n",
       "      <td>91.20</td>\n",
       "      <td>...</td>\n",
       "      <td>0</td>\n",
       "      <td>0</td>\n",
       "      <td>0</td>\n",
       "      <td>0</td>\n",
       "      <td>0</td>\n",
       "      <td>0</td>\n",
       "      <td>0</td>\n",
       "      <td>0</td>\n",
       "      <td>0</td>\n",
       "      <td>0</td>\n",
       "    </tr>\n",
       "    <tr>\n",
       "      <th>4</th>\n",
       "      <td>DPMD Jayawardene (Asia/SL)</td>\n",
       "      <td>1998-2015</td>\n",
       "      <td>448</td>\n",
       "      <td>418</td>\n",
       "      <td>39</td>\n",
       "      <td>12650</td>\n",
       "      <td>144</td>\n",
       "      <td>33.37</td>\n",
       "      <td>16020</td>\n",
       "      <td>78.96</td>\n",
       "      <td>...</td>\n",
       "      <td>0</td>\n",
       "      <td>0</td>\n",
       "      <td>0</td>\n",
       "      <td>0</td>\n",
       "      <td>0</td>\n",
       "      <td>0</td>\n",
       "      <td>0</td>\n",
       "      <td>0</td>\n",
       "      <td>0</td>\n",
       "      <td>0</td>\n",
       "    </tr>\n",
       "  </tbody>\n",
       "</table>\n",
       "<p>5 rows × 2513 columns</p>\n",
       "</div>"
      ],
      "text/plain": [
       "                        Player       Span  Mat  Inns  NO   Runs    HS    Ave  \\\n",
       "0         SR Tendulkar (INDIA)  1989-2012  463   452  41  18426  200*  44.83   \n",
       "1  KC Sangakkara (Asia/ICC/SL)  2000-2015  404   380  41  14234   169  41.98   \n",
       "2         RT Ponting (AUS/ICC)  1995-2012  375   365  39  13704   164  42.03   \n",
       "3      ST Jayasuriya (Asia/SL)  1989-2011  445   433  18  13430   189  32.36   \n",
       "4   DPMD Jayawardene (Asia/SL)  1998-2015  448   418  39  12650   144  33.37   \n",
       "\n",
       "      BF     SR  ...  Zakir Hossain (BDESH)  Zakir Khan (PAK)  \\\n",
       "0  21367  86.23  ...                      0                 0   \n",
       "1  18048  78.86  ...                      0                 0   \n",
       "2  17046  80.39  ...                      0                 0   \n",
       "3  14725  91.20  ...                      0                 0   \n",
       "4  16020  78.96  ...                      0                 0   \n",
       "\n",
       "   Zakiullah Zaki (AFG)  Zeeshan Maqsood (OMAN)  Zeeshan Siddiqi (CAN)  \\\n",
       "0                     0                       0                      0   \n",
       "1                     0                       0                      0   \n",
       "2                     0                       0                      0   \n",
       "3                     0                       0                      0   \n",
       "4                     0                       0                      0   \n",
       "\n",
       "   Ziaur Rahman (BDESH)  Zulfiqar Ali (EAf)  Zulfiqar Babar (PAK)  \\\n",
       "0                     0                   0                     0   \n",
       "1                     0                   0                     0   \n",
       "2                     0                   0                     0   \n",
       "3                     0                   0                     0   \n",
       "4                     0                   0                     0   \n",
       "\n",
       "   Zulqarnain (PAK)  Zulqarnain Haider (PAK)  \n",
       "0                 0                        0  \n",
       "1                 0                        0  \n",
       "2                 0                        0  \n",
       "3                 0                        0  \n",
       "4                 0                        0  \n",
       "\n",
       "[5 rows x 2513 columns]"
      ]
     },
     "execution_count": 24,
     "metadata": {},
     "output_type": "execute_result"
    }
   ],
   "source": [
    "df1 = pd.concat([cricket_df,cricket_df_dummies],axis='columns')\n",
    "df1.head()"
   ]
  },
  {
   "cell_type": "code",
   "execution_count": 25,
   "id": "d2594e45",
   "metadata": {},
   "outputs": [],
   "source": [
    "df2= df1.drop(columns = [\"Player\",'HS','Span'])"
   ]
  },
  {
   "cell_type": "code",
   "execution_count": 26,
   "id": "36f9a418",
   "metadata": {},
   "outputs": [
    {
     "data": {
      "text/plain": [
       "0       40\n",
       "1       37\n",
       "2       37\n",
       "3       31\n",
       "4       30\n",
       "        ..\n",
       "2495     1\n",
       "2496     1\n",
       "2497     1\n",
       "2498     1\n",
       "2499     1\n",
       "Name: Run, Length: 2500, dtype: int32"
      ]
     },
     "execution_count": 26,
     "metadata": {},
     "output_type": "execute_result"
    }
   ],
   "source": [
    "df2.Run"
   ]
  },
  {
   "cell_type": "code",
   "execution_count": 27,
   "id": "9d0c7072",
   "metadata": {},
   "outputs": [
    {
     "data": {
      "text/plain": [
       "(2500, 2510)"
      ]
     },
     "execution_count": 27,
     "metadata": {},
     "output_type": "execute_result"
    }
   ],
   "source": [
    "df2.shape"
   ]
  },
  {
   "cell_type": "code",
   "execution_count": 28,
   "id": "caab865e",
   "metadata": {},
   "outputs": [
    {
     "data": {
      "text/html": [
       "<div>\n",
       "<style scoped>\n",
       "    .dataframe tbody tr th:only-of-type {\n",
       "        vertical-align: middle;\n",
       "    }\n",
       "\n",
       "    .dataframe tbody tr th {\n",
       "        vertical-align: top;\n",
       "    }\n",
       "\n",
       "    .dataframe thead th {\n",
       "        text-align: right;\n",
       "    }\n",
       "</style>\n",
       "<table border=\"1\" class=\"dataframe\">\n",
       "  <thead>\n",
       "    <tr style=\"text-align: right;\">\n",
       "      <th></th>\n",
       "      <th>Mat</th>\n",
       "      <th>Inns</th>\n",
       "      <th>NO</th>\n",
       "      <th>Runs</th>\n",
       "      <th>Ave</th>\n",
       "      <th>BF</th>\n",
       "      <th>SR</th>\n",
       "      <th>Hundereds</th>\n",
       "      <th>Fiftys</th>\n",
       "      <th>Zeros</th>\n",
       "      <th>...</th>\n",
       "      <th>Zakir Hossain (BDESH)</th>\n",
       "      <th>Zakir Khan (PAK)</th>\n",
       "      <th>Zakiullah Zaki (AFG)</th>\n",
       "      <th>Zeeshan Maqsood (OMAN)</th>\n",
       "      <th>Zeeshan Siddiqi (CAN)</th>\n",
       "      <th>Ziaur Rahman (BDESH)</th>\n",
       "      <th>Zulfiqar Ali (EAf)</th>\n",
       "      <th>Zulfiqar Babar (PAK)</th>\n",
       "      <th>Zulqarnain (PAK)</th>\n",
       "      <th>Zulqarnain Haider (PAK)</th>\n",
       "    </tr>\n",
       "  </thead>\n",
       "  <tbody>\n",
       "    <tr>\n",
       "      <th>0</th>\n",
       "      <td>463</td>\n",
       "      <td>452</td>\n",
       "      <td>41</td>\n",
       "      <td>18426</td>\n",
       "      <td>44.83</td>\n",
       "      <td>21367</td>\n",
       "      <td>86.23</td>\n",
       "      <td>49.0</td>\n",
       "      <td>96.0</td>\n",
       "      <td>20.0</td>\n",
       "      <td>...</td>\n",
       "      <td>0</td>\n",
       "      <td>0</td>\n",
       "      <td>0</td>\n",
       "      <td>0</td>\n",
       "      <td>0</td>\n",
       "      <td>0</td>\n",
       "      <td>0</td>\n",
       "      <td>0</td>\n",
       "      <td>0</td>\n",
       "      <td>0</td>\n",
       "    </tr>\n",
       "    <tr>\n",
       "      <th>1</th>\n",
       "      <td>404</td>\n",
       "      <td>380</td>\n",
       "      <td>41</td>\n",
       "      <td>14234</td>\n",
       "      <td>41.98</td>\n",
       "      <td>18048</td>\n",
       "      <td>78.86</td>\n",
       "      <td>25.0</td>\n",
       "      <td>93.0</td>\n",
       "      <td>15.0</td>\n",
       "      <td>...</td>\n",
       "      <td>0</td>\n",
       "      <td>0</td>\n",
       "      <td>0</td>\n",
       "      <td>0</td>\n",
       "      <td>0</td>\n",
       "      <td>0</td>\n",
       "      <td>0</td>\n",
       "      <td>0</td>\n",
       "      <td>0</td>\n",
       "      <td>0</td>\n",
       "    </tr>\n",
       "    <tr>\n",
       "      <th>2</th>\n",
       "      <td>375</td>\n",
       "      <td>365</td>\n",
       "      <td>39</td>\n",
       "      <td>13704</td>\n",
       "      <td>42.03</td>\n",
       "      <td>17046</td>\n",
       "      <td>80.39</td>\n",
       "      <td>30.0</td>\n",
       "      <td>82.0</td>\n",
       "      <td>20.0</td>\n",
       "      <td>...</td>\n",
       "      <td>0</td>\n",
       "      <td>0</td>\n",
       "      <td>0</td>\n",
       "      <td>0</td>\n",
       "      <td>0</td>\n",
       "      <td>0</td>\n",
       "      <td>0</td>\n",
       "      <td>0</td>\n",
       "      <td>0</td>\n",
       "      <td>0</td>\n",
       "    </tr>\n",
       "    <tr>\n",
       "      <th>3</th>\n",
       "      <td>445</td>\n",
       "      <td>433</td>\n",
       "      <td>18</td>\n",
       "      <td>13430</td>\n",
       "      <td>32.36</td>\n",
       "      <td>14725</td>\n",
       "      <td>91.20</td>\n",
       "      <td>28.0</td>\n",
       "      <td>68.0</td>\n",
       "      <td>34.0</td>\n",
       "      <td>...</td>\n",
       "      <td>0</td>\n",
       "      <td>0</td>\n",
       "      <td>0</td>\n",
       "      <td>0</td>\n",
       "      <td>0</td>\n",
       "      <td>0</td>\n",
       "      <td>0</td>\n",
       "      <td>0</td>\n",
       "      <td>0</td>\n",
       "      <td>0</td>\n",
       "    </tr>\n",
       "    <tr>\n",
       "      <th>4</th>\n",
       "      <td>448</td>\n",
       "      <td>418</td>\n",
       "      <td>39</td>\n",
       "      <td>12650</td>\n",
       "      <td>33.37</td>\n",
       "      <td>16020</td>\n",
       "      <td>78.96</td>\n",
       "      <td>19.0</td>\n",
       "      <td>77.0</td>\n",
       "      <td>28.0</td>\n",
       "      <td>...</td>\n",
       "      <td>0</td>\n",
       "      <td>0</td>\n",
       "      <td>0</td>\n",
       "      <td>0</td>\n",
       "      <td>0</td>\n",
       "      <td>0</td>\n",
       "      <td>0</td>\n",
       "      <td>0</td>\n",
       "      <td>0</td>\n",
       "      <td>0</td>\n",
       "    </tr>\n",
       "  </tbody>\n",
       "</table>\n",
       "<p>5 rows × 2510 columns</p>\n",
       "</div>"
      ],
      "text/plain": [
       "   Mat  Inns  NO   Runs    Ave     BF     SR  Hundereds  Fiftys  Zeros  ...  \\\n",
       "0  463   452  41  18426  44.83  21367  86.23       49.0    96.0   20.0  ...   \n",
       "1  404   380  41  14234  41.98  18048  78.86       25.0    93.0   15.0  ...   \n",
       "2  375   365  39  13704  42.03  17046  80.39       30.0    82.0   20.0  ...   \n",
       "3  445   433  18  13430  32.36  14725  91.20       28.0    68.0   34.0  ...   \n",
       "4  448   418  39  12650  33.37  16020  78.96       19.0    77.0   28.0  ...   \n",
       "\n",
       "   Zakir Hossain (BDESH)  Zakir Khan (PAK)  Zakiullah Zaki (AFG)  \\\n",
       "0                      0                 0                     0   \n",
       "1                      0                 0                     0   \n",
       "2                      0                 0                     0   \n",
       "3                      0                 0                     0   \n",
       "4                      0                 0                     0   \n",
       "\n",
       "   Zeeshan Maqsood (OMAN)  Zeeshan Siddiqi (CAN)  Ziaur Rahman (BDESH)  \\\n",
       "0                       0                      0                     0   \n",
       "1                       0                      0                     0   \n",
       "2                       0                      0                     0   \n",
       "3                       0                      0                     0   \n",
       "4                       0                      0                     0   \n",
       "\n",
       "   Zulfiqar Ali (EAf)  Zulfiqar Babar (PAK)  Zulqarnain (PAK)  \\\n",
       "0                   0                     0                 0   \n",
       "1                   0                     0                 0   \n",
       "2                   0                     0                 0   \n",
       "3                   0                     0                 0   \n",
       "4                   0                     0                 0   \n",
       "\n",
       "   Zulqarnain Haider (PAK)  \n",
       "0                        0  \n",
       "1                        0  \n",
       "2                        0  \n",
       "3                        0  \n",
       "4                        0  \n",
       "\n",
       "[5 rows x 2510 columns]"
      ]
     },
     "execution_count": 28,
     "metadata": {},
     "output_type": "execute_result"
    }
   ],
   "source": [
    "df2.head()"
   ]
  },
  {
   "cell_type": "code",
   "execution_count": 29,
   "id": "cdad7050",
   "metadata": {},
   "outputs": [
    {
     "name": "stdout",
     "output_type": "stream",
     "text": [
      "<class 'pandas.core.frame.DataFrame'>\n",
      "RangeIndex: 2500 entries, 0 to 2499\n",
      "Columns: 2510 entries, Mat to Zulqarnain Haider (PAK)\n",
      "dtypes: float64(5), int32(5), int64(1), uint8(2499)\n",
      "memory usage: 6.1 MB\n"
     ]
    }
   ],
   "source": [
    "df2.info()"
   ]
  },
  {
   "cell_type": "code",
   "execution_count": 30,
   "id": "ea1cd1e2",
   "metadata": {},
   "outputs": [
    {
     "data": {
      "text/html": [
       "<div>\n",
       "<style scoped>\n",
       "    .dataframe tbody tr th:only-of-type {\n",
       "        vertical-align: middle;\n",
       "    }\n",
       "\n",
       "    .dataframe tbody tr th {\n",
       "        vertical-align: top;\n",
       "    }\n",
       "\n",
       "    .dataframe thead th {\n",
       "        text-align: right;\n",
       "    }\n",
       "</style>\n",
       "<table border=\"1\" class=\"dataframe\">\n",
       "  <thead>\n",
       "    <tr style=\"text-align: right;\">\n",
       "      <th></th>\n",
       "      <th>Ave</th>\n",
       "      <th>BF</th>\n",
       "      <th>SR</th>\n",
       "      <th>Hundereds</th>\n",
       "      <th>Fiftys</th>\n",
       "      <th>Zeros</th>\n",
       "      <th>A Bagai (CAN)</th>\n",
       "      <th>A Balbirnie (IRE)</th>\n",
       "      <th>A Bhandari (INDIA)</th>\n",
       "      <th>A Codrington (CAN)</th>\n",
       "      <th>...</th>\n",
       "      <th>Zakir Hossain (BDESH)</th>\n",
       "      <th>Zakir Khan (PAK)</th>\n",
       "      <th>Zakiullah Zaki (AFG)</th>\n",
       "      <th>Zeeshan Maqsood (OMAN)</th>\n",
       "      <th>Zeeshan Siddiqi (CAN)</th>\n",
       "      <th>Ziaur Rahman (BDESH)</th>\n",
       "      <th>Zulfiqar Ali (EAf)</th>\n",
       "      <th>Zulfiqar Babar (PAK)</th>\n",
       "      <th>Zulqarnain (PAK)</th>\n",
       "      <th>Zulqarnain Haider (PAK)</th>\n",
       "    </tr>\n",
       "  </thead>\n",
       "  <tbody>\n",
       "    <tr>\n",
       "      <th>0</th>\n",
       "      <td>44.83</td>\n",
       "      <td>21367</td>\n",
       "      <td>86.23</td>\n",
       "      <td>49.0</td>\n",
       "      <td>96.0</td>\n",
       "      <td>20.0</td>\n",
       "      <td>0</td>\n",
       "      <td>0</td>\n",
       "      <td>0</td>\n",
       "      <td>0</td>\n",
       "      <td>...</td>\n",
       "      <td>0</td>\n",
       "      <td>0</td>\n",
       "      <td>0</td>\n",
       "      <td>0</td>\n",
       "      <td>0</td>\n",
       "      <td>0</td>\n",
       "      <td>0</td>\n",
       "      <td>0</td>\n",
       "      <td>0</td>\n",
       "      <td>0</td>\n",
       "    </tr>\n",
       "    <tr>\n",
       "      <th>1</th>\n",
       "      <td>41.98</td>\n",
       "      <td>18048</td>\n",
       "      <td>78.86</td>\n",
       "      <td>25.0</td>\n",
       "      <td>93.0</td>\n",
       "      <td>15.0</td>\n",
       "      <td>0</td>\n",
       "      <td>0</td>\n",
       "      <td>0</td>\n",
       "      <td>0</td>\n",
       "      <td>...</td>\n",
       "      <td>0</td>\n",
       "      <td>0</td>\n",
       "      <td>0</td>\n",
       "      <td>0</td>\n",
       "      <td>0</td>\n",
       "      <td>0</td>\n",
       "      <td>0</td>\n",
       "      <td>0</td>\n",
       "      <td>0</td>\n",
       "      <td>0</td>\n",
       "    </tr>\n",
       "    <tr>\n",
       "      <th>2</th>\n",
       "      <td>42.03</td>\n",
       "      <td>17046</td>\n",
       "      <td>80.39</td>\n",
       "      <td>30.0</td>\n",
       "      <td>82.0</td>\n",
       "      <td>20.0</td>\n",
       "      <td>0</td>\n",
       "      <td>0</td>\n",
       "      <td>0</td>\n",
       "      <td>0</td>\n",
       "      <td>...</td>\n",
       "      <td>0</td>\n",
       "      <td>0</td>\n",
       "      <td>0</td>\n",
       "      <td>0</td>\n",
       "      <td>0</td>\n",
       "      <td>0</td>\n",
       "      <td>0</td>\n",
       "      <td>0</td>\n",
       "      <td>0</td>\n",
       "      <td>0</td>\n",
       "    </tr>\n",
       "    <tr>\n",
       "      <th>3</th>\n",
       "      <td>32.36</td>\n",
       "      <td>14725</td>\n",
       "      <td>91.20</td>\n",
       "      <td>28.0</td>\n",
       "      <td>68.0</td>\n",
       "      <td>34.0</td>\n",
       "      <td>0</td>\n",
       "      <td>0</td>\n",
       "      <td>0</td>\n",
       "      <td>0</td>\n",
       "      <td>...</td>\n",
       "      <td>0</td>\n",
       "      <td>0</td>\n",
       "      <td>0</td>\n",
       "      <td>0</td>\n",
       "      <td>0</td>\n",
       "      <td>0</td>\n",
       "      <td>0</td>\n",
       "      <td>0</td>\n",
       "      <td>0</td>\n",
       "      <td>0</td>\n",
       "    </tr>\n",
       "    <tr>\n",
       "      <th>4</th>\n",
       "      <td>33.37</td>\n",
       "      <td>16020</td>\n",
       "      <td>78.96</td>\n",
       "      <td>19.0</td>\n",
       "      <td>77.0</td>\n",
       "      <td>28.0</td>\n",
       "      <td>0</td>\n",
       "      <td>0</td>\n",
       "      <td>0</td>\n",
       "      <td>0</td>\n",
       "      <td>...</td>\n",
       "      <td>0</td>\n",
       "      <td>0</td>\n",
       "      <td>0</td>\n",
       "      <td>0</td>\n",
       "      <td>0</td>\n",
       "      <td>0</td>\n",
       "      <td>0</td>\n",
       "      <td>0</td>\n",
       "      <td>0</td>\n",
       "      <td>0</td>\n",
       "    </tr>\n",
       "  </tbody>\n",
       "</table>\n",
       "<p>5 rows × 2505 columns</p>\n",
       "</div>"
      ],
      "text/plain": [
       "     Ave     BF     SR  Hundereds  Fiftys  Zeros  A Bagai (CAN)  \\\n",
       "0  44.83  21367  86.23       49.0    96.0   20.0              0   \n",
       "1  41.98  18048  78.86       25.0    93.0   15.0              0   \n",
       "2  42.03  17046  80.39       30.0    82.0   20.0              0   \n",
       "3  32.36  14725  91.20       28.0    68.0   34.0              0   \n",
       "4  33.37  16020  78.96       19.0    77.0   28.0              0   \n",
       "\n",
       "   A Balbirnie (IRE)  A Bhandari (INDIA)  A Codrington (CAN)  ...  \\\n",
       "0                  0                   0                   0  ...   \n",
       "1                  0                   0                   0  ...   \n",
       "2                  0                   0                   0  ...   \n",
       "3                  0                   0                   0  ...   \n",
       "4                  0                   0                   0  ...   \n",
       "\n",
       "   Zakir Hossain (BDESH)  Zakir Khan (PAK)  Zakiullah Zaki (AFG)  \\\n",
       "0                      0                 0                     0   \n",
       "1                      0                 0                     0   \n",
       "2                      0                 0                     0   \n",
       "3                      0                 0                     0   \n",
       "4                      0                 0                     0   \n",
       "\n",
       "   Zeeshan Maqsood (OMAN)  Zeeshan Siddiqi (CAN)  Ziaur Rahman (BDESH)  \\\n",
       "0                       0                      0                     0   \n",
       "1                       0                      0                     0   \n",
       "2                       0                      0                     0   \n",
       "3                       0                      0                     0   \n",
       "4                       0                      0                     0   \n",
       "\n",
       "   Zulfiqar Ali (EAf)  Zulfiqar Babar (PAK)  Zulqarnain (PAK)  \\\n",
       "0                   0                     0                 0   \n",
       "1                   0                     0                 0   \n",
       "2                   0                     0                 0   \n",
       "3                   0                     0                 0   \n",
       "4                   0                     0                 0   \n",
       "\n",
       "   Zulqarnain Haider (PAK)  \n",
       "0                        0  \n",
       "1                        0  \n",
       "2                        0  \n",
       "3                        0  \n",
       "4                        0  \n",
       "\n",
       "[5 rows x 2505 columns]"
      ]
     },
     "execution_count": 30,
     "metadata": {},
     "output_type": "execute_result"
    }
   ],
   "source": [
    "X = df2.drop(columns = [\"Run\" ,\"Runs\", \"Mat\", \"Inns\",\"NO\"])\n",
    "X.head()"
   ]
  },
  {
   "cell_type": "code",
   "execution_count": 31,
   "id": "8c895e50",
   "metadata": {},
   "outputs": [],
   "source": [
    "Y = df2.Run"
   ]
  },
  {
   "cell_type": "code",
   "execution_count": 32,
   "id": "fc4f56c3",
   "metadata": {},
   "outputs": [],
   "source": [
    "from sklearn.model_selection import train_test_split"
   ]
  },
  {
   "cell_type": "code",
   "execution_count": 33,
   "id": "d6d5ef63",
   "metadata": {},
   "outputs": [],
   "source": [
    "X_train, X_test, y_train, y_test=train_test_split(X,Y , test_size = 0.2 , random_state = 0)"
   ]
  },
  {
   "cell_type": "code",
   "execution_count": 34,
   "id": "03d8411b",
   "metadata": {
    "scrolled": true
   },
   "outputs": [
    {
     "data": {
      "text/plain": [
       "(2000, 2505)"
      ]
     },
     "execution_count": 34,
     "metadata": {},
     "output_type": "execute_result"
    }
   ],
   "source": [
    "X_train.shape"
   ]
  },
  {
   "cell_type": "markdown",
   "id": "d062c7f6",
   "metadata": {},
   "source": [
    "# LinearRegression"
   ]
  },
  {
   "cell_type": "code",
   "execution_count": 35,
   "id": "6280324e",
   "metadata": {},
   "outputs": [],
   "source": [
    "from sklearn.linear_model import LinearRegression"
   ]
  },
  {
   "cell_type": "code",
   "execution_count": 37,
   "id": "fbe60a4c",
   "metadata": {},
   "outputs": [],
   "source": [
    "model_LR = LinearRegression()"
   ]
  },
  {
   "cell_type": "code",
   "execution_count": 38,
   "id": "19e6fd63",
   "metadata": {},
   "outputs": [
    {
     "data": {
      "text/plain": [
       "LinearRegression()"
      ]
     },
     "execution_count": 38,
     "metadata": {},
     "output_type": "execute_result"
    }
   ],
   "source": [
    "model_LR.fit(X_train, y_train)"
   ]
  },
  {
   "cell_type": "code",
   "execution_count": 39,
   "id": "beb86121",
   "metadata": {},
   "outputs": [
    {
     "data": {
      "text/plain": [
       "0.8646875173479234"
      ]
     },
     "execution_count": 39,
     "metadata": {},
     "output_type": "execute_result"
    }
   ],
   "source": [
    "model_LR.score(X_test, y_test)"
   ]
  },
  {
   "cell_type": "code",
   "execution_count": 40,
   "id": "07e15818",
   "metadata": {},
   "outputs": [
    {
     "data": {
      "text/plain": [
       "1.0"
      ]
     },
     "execution_count": 40,
     "metadata": {},
     "output_type": "execute_result"
    }
   ],
   "source": [
    "model_LR.score(X_train,y_train)"
   ]
  },
  {
   "cell_type": "code",
   "execution_count": 41,
   "id": "587ffa5a",
   "metadata": {},
   "outputs": [
    {
     "data": {
      "text/html": [
       "<div>\n",
       "<style scoped>\n",
       "    .dataframe tbody tr th:only-of-type {\n",
       "        vertical-align: middle;\n",
       "    }\n",
       "\n",
       "    .dataframe tbody tr th {\n",
       "        vertical-align: top;\n",
       "    }\n",
       "\n",
       "    .dataframe thead th {\n",
       "        text-align: right;\n",
       "    }\n",
       "</style>\n",
       "<table border=\"1\" class=\"dataframe\">\n",
       "  <thead>\n",
       "    <tr style=\"text-align: right;\">\n",
       "      <th></th>\n",
       "      <th>Ave</th>\n",
       "      <th>BF</th>\n",
       "      <th>SR</th>\n",
       "      <th>Hundereds</th>\n",
       "      <th>Fiftys</th>\n",
       "      <th>Zeros</th>\n",
       "      <th>A Bagai (CAN)</th>\n",
       "      <th>A Balbirnie (IRE)</th>\n",
       "      <th>A Bhandari (INDIA)</th>\n",
       "      <th>A Codrington (CAN)</th>\n",
       "      <th>...</th>\n",
       "      <th>Zakir Khan (PAK)</th>\n",
       "      <th>Zakiullah Zaki (AFG)</th>\n",
       "      <th>Zeeshan Maqsood (OMAN)</th>\n",
       "      <th>Zeeshan Siddiqi (CAN)</th>\n",
       "      <th>Ziaur Rahman (BDESH)</th>\n",
       "      <th>Zulfiqar Ali (EAf)</th>\n",
       "      <th>Zulfiqar Babar (PAK)</th>\n",
       "      <th>Zulqarnain (PAK)</th>\n",
       "      <th>Zulqarnain Haider (PAK)</th>\n",
       "      <th>Run</th>\n",
       "    </tr>\n",
       "  </thead>\n",
       "  <tbody>\n",
       "    <tr>\n",
       "      <th>286</th>\n",
       "      <td>26.37</td>\n",
       "      <td>2155</td>\n",
       "      <td>70.99</td>\n",
       "      <td>1.0</td>\n",
       "      <td>12.0</td>\n",
       "      <td>5.0</td>\n",
       "      <td>0</td>\n",
       "      <td>0</td>\n",
       "      <td>0</td>\n",
       "      <td>0</td>\n",
       "      <td>...</td>\n",
       "      <td>0</td>\n",
       "      <td>0</td>\n",
       "      <td>0</td>\n",
       "      <td>0</td>\n",
       "      <td>0</td>\n",
       "      <td>0</td>\n",
       "      <td>0</td>\n",
       "      <td>0</td>\n",
       "      <td>0</td>\n",
       "      <td>25</td>\n",
       "    </tr>\n",
       "    <tr>\n",
       "      <th>1495</th>\n",
       "      <td>14.25</td>\n",
       "      <td>77</td>\n",
       "      <td>74.02</td>\n",
       "      <td>0.0</td>\n",
       "      <td>0.0</td>\n",
       "      <td>0.0</td>\n",
       "      <td>0</td>\n",
       "      <td>0</td>\n",
       "      <td>0</td>\n",
       "      <td>0</td>\n",
       "      <td>...</td>\n",
       "      <td>0</td>\n",
       "      <td>0</td>\n",
       "      <td>0</td>\n",
       "      <td>0</td>\n",
       "      <td>0</td>\n",
       "      <td>0</td>\n",
       "      <td>0</td>\n",
       "      <td>0</td>\n",
       "      <td>0</td>\n",
       "      <td>14</td>\n",
       "    </tr>\n",
       "    <tr>\n",
       "      <th>40</th>\n",
       "      <td>34.92</td>\n",
       "      <td>9760</td>\n",
       "      <td>72.64</td>\n",
       "      <td>16.0</td>\n",
       "      <td>41.0</td>\n",
       "      <td>19.0</td>\n",
       "      <td>0</td>\n",
       "      <td>0</td>\n",
       "      <td>0</td>\n",
       "      <td>0</td>\n",
       "      <td>...</td>\n",
       "      <td>0</td>\n",
       "      <td>0</td>\n",
       "      <td>0</td>\n",
       "      <td>0</td>\n",
       "      <td>0</td>\n",
       "      <td>0</td>\n",
       "      <td>0</td>\n",
       "      <td>0</td>\n",
       "      <td>0</td>\n",
       "      <td>32</td>\n",
       "    </tr>\n",
       "    <tr>\n",
       "      <th>1106</th>\n",
       "      <td>9.85</td>\n",
       "      <td>241</td>\n",
       "      <td>57.26</td>\n",
       "      <td>0.0</td>\n",
       "      <td>0.0</td>\n",
       "      <td>2.0</td>\n",
       "      <td>0</td>\n",
       "      <td>0</td>\n",
       "      <td>0</td>\n",
       "      <td>0</td>\n",
       "      <td>...</td>\n",
       "      <td>0</td>\n",
       "      <td>0</td>\n",
       "      <td>0</td>\n",
       "      <td>0</td>\n",
       "      <td>0</td>\n",
       "      <td>0</td>\n",
       "      <td>0</td>\n",
       "      <td>0</td>\n",
       "      <td>0</td>\n",
       "      <td>6</td>\n",
       "    </tr>\n",
       "    <tr>\n",
       "      <th>1379</th>\n",
       "      <td>25.00</td>\n",
       "      <td>124</td>\n",
       "      <td>60.48</td>\n",
       "      <td>0.0</td>\n",
       "      <td>1.0</td>\n",
       "      <td>0.0</td>\n",
       "      <td>0</td>\n",
       "      <td>0</td>\n",
       "      <td>0</td>\n",
       "      <td>0</td>\n",
       "      <td>...</td>\n",
       "      <td>0</td>\n",
       "      <td>0</td>\n",
       "      <td>0</td>\n",
       "      <td>0</td>\n",
       "      <td>0</td>\n",
       "      <td>0</td>\n",
       "      <td>0</td>\n",
       "      <td>0</td>\n",
       "      <td>0</td>\n",
       "      <td>25</td>\n",
       "    </tr>\n",
       "  </tbody>\n",
       "</table>\n",
       "<p>5 rows × 2506 columns</p>\n",
       "</div>"
      ],
      "text/plain": [
       "        Ave    BF     SR  Hundereds  Fiftys  Zeros  A Bagai (CAN)  \\\n",
       "286   26.37  2155  70.99        1.0    12.0    5.0              0   \n",
       "1495  14.25    77  74.02        0.0     0.0    0.0              0   \n",
       "40    34.92  9760  72.64       16.0    41.0   19.0              0   \n",
       "1106   9.85   241  57.26        0.0     0.0    2.0              0   \n",
       "1379  25.00   124  60.48        0.0     1.0    0.0              0   \n",
       "\n",
       "      A Balbirnie (IRE)  A Bhandari (INDIA)  A Codrington (CAN)  ...  \\\n",
       "286                   0                   0                   0  ...   \n",
       "1495                  0                   0                   0  ...   \n",
       "40                    0                   0                   0  ...   \n",
       "1106                  0                   0                   0  ...   \n",
       "1379                  0                   0                   0  ...   \n",
       "\n",
       "      Zakir Khan (PAK)  Zakiullah Zaki (AFG)  Zeeshan Maqsood (OMAN)  \\\n",
       "286                  0                     0                       0   \n",
       "1495                 0                     0                       0   \n",
       "40                   0                     0                       0   \n",
       "1106                 0                     0                       0   \n",
       "1379                 0                     0                       0   \n",
       "\n",
       "      Zeeshan Siddiqi (CAN)  Ziaur Rahman (BDESH)  Zulfiqar Ali (EAf)  \\\n",
       "286                       0                     0                   0   \n",
       "1495                      0                     0                   0   \n",
       "40                        0                     0                   0   \n",
       "1106                      0                     0                   0   \n",
       "1379                      0                     0                   0   \n",
       "\n",
       "      Zulfiqar Babar (PAK)  Zulqarnain (PAK)  Zulqarnain Haider (PAK)  Run  \n",
       "286                      0                 0                        0   25  \n",
       "1495                     0                 0                        0   14  \n",
       "40                       0                 0                        0   32  \n",
       "1106                     0                 0                        0    6  \n",
       "1379                     0                 0                        0   25  \n",
       "\n",
       "[5 rows x 2506 columns]"
      ]
     },
     "execution_count": 41,
     "metadata": {},
     "output_type": "execute_result"
    }
   ],
   "source": [
    "data_train = pd.concat([X_train, y_train], axis=1)\n",
    "data_train.head()"
   ]
  },
  {
   "cell_type": "code",
   "execution_count": 42,
   "id": "45e9e048",
   "metadata": {},
   "outputs": [
    {
     "data": {
      "text/plain": [
       "Index(['Ave', 'BF', 'SR', 'Hundereds', 'Fiftys', 'Zeros', 'A Bagai (CAN)',\n",
       "       'A Balbirnie (IRE)', 'A Bhandari (INDIA)', 'A Codrington (CAN)',\n",
       "       ...\n",
       "       'Zakir Hossain (BDESH)', 'Zakir Khan (PAK)', 'Zakiullah Zaki (AFG)',\n",
       "       'Zeeshan Maqsood (OMAN)', 'Zeeshan Siddiqi (CAN)',\n",
       "       'Ziaur Rahman (BDESH)', 'Zulfiqar Ali (EAf)', 'Zulfiqar Babar (PAK)',\n",
       "       'Zulqarnain (PAK)', 'Zulqarnain Haider (PAK)'],\n",
       "      dtype='object', length=2505)"
      ]
     },
     "execution_count": 42,
     "metadata": {},
     "output_type": "execute_result"
    }
   ],
   "source": [
    "X_train.columns"
   ]
  },
  {
   "cell_type": "code",
   "execution_count": 43,
   "id": "b819bf69",
   "metadata": {},
   "outputs": [],
   "source": [
    "import statsmodels.formula.api as smf"
   ]
  },
  {
   "cell_type": "code",
   "execution_count": 45,
   "id": "7a4593de",
   "metadata": {},
   "outputs": [
    {
     "data": {
      "text/plain": [
       "Intercept   -0.031855\n",
       "Ave          0.723336\n",
       "BF           0.000482\n",
       "SR           0.018042\n",
       "dtype: float64"
      ]
     },
     "execution_count": 45,
     "metadata": {},
     "output_type": "execute_result"
    }
   ],
   "source": [
    "lm1 = smf.ols(formula= 'Run ~ Ave+BF+SR', data = data_train).fit()\n",
    "lm1.params"
   ]
  },
  {
   "cell_type": "code",
   "execution_count": 46,
   "id": "c0874a82",
   "metadata": {},
   "outputs": [
    {
     "name": "stdout",
     "output_type": "stream",
     "text": [
      "                            OLS Regression Results                            \n",
      "==============================================================================\n",
      "Dep. Variable:                    Run   R-squared:                       0.824\n",
      "Model:                            OLS   Adj. R-squared:                  0.824\n",
      "Method:                 Least Squares   F-statistic:                     3124.\n",
      "Date:                Sun, 24 Apr 2022   Prob (F-statistic):               0.00\n",
      "Time:                        14:41:37   Log-Likelihood:                -5954.6\n",
      "No. Observations:                2000   AIC:                         1.192e+04\n",
      "Df Residuals:                    1996   BIC:                         1.194e+04\n",
      "Df Model:                           3                                         \n",
      "Covariance Type:            nonrobust                                         \n",
      "==============================================================================\n",
      "                 coef    std err          t      P>|t|      [0.025      0.975]\n",
      "------------------------------------------------------------------------------\n",
      "Intercept     -0.0319      0.277     -0.115      0.909      -0.576       0.512\n",
      "Ave            0.7233      0.010     73.801      0.000       0.704       0.743\n",
      "BF             0.0005   5.95e-05      8.109      0.000       0.000       0.001\n",
      "SR             0.0180      0.004      4.168      0.000       0.010       0.027\n",
      "==============================================================================\n",
      "Omnibus:                      889.617   Durbin-Watson:                   1.926\n",
      "Prob(Omnibus):                  0.000   Jarque-Bera (JB):            59720.167\n",
      "Skew:                           1.243   Prob(JB):                         0.00\n",
      "Kurtosis:                      29.655   Cond. No.                     5.81e+03\n",
      "==============================================================================\n",
      "\n",
      "Notes:\n",
      "[1] Standard Errors assume that the covariance matrix of the errors is correctly specified.\n",
      "[2] The condition number is large, 5.81e+03. This might indicate that there are\n",
      "strong multicollinearity or other numerical problems.\n"
     ]
    }
   ],
   "source": [
    "print(lm1.summary())"
   ]
  },
  {
   "cell_type": "markdown",
   "id": "b09891a8",
   "metadata": {},
   "source": [
    "# Decision Tree Regression"
   ]
  },
  {
   "cell_type": "code",
   "execution_count": 47,
   "id": "87e87197",
   "metadata": {},
   "outputs": [],
   "source": [
    "from sklearn.tree import DecisionTreeRegressor"
   ]
  },
  {
   "cell_type": "code",
   "execution_count": 62,
   "id": "922784f7",
   "metadata": {},
   "outputs": [],
   "source": [
    "model_DTR=DecisionTreeRegressor(splitter='random')"
   ]
  },
  {
   "cell_type": "code",
   "execution_count": 63,
   "id": "6c50ccbc",
   "metadata": {},
   "outputs": [
    {
     "data": {
      "text/plain": [
       "DecisionTreeRegressor(splitter='random')"
      ]
     },
     "execution_count": 63,
     "metadata": {},
     "output_type": "execute_result"
    }
   ],
   "source": [
    "model_DTR.fit(X_train,y_train)"
   ]
  },
  {
   "cell_type": "code",
   "execution_count": 64,
   "id": "61d0e72f",
   "metadata": {},
   "outputs": [
    {
     "data": {
      "text/plain": [
       "0.8570443884907809"
      ]
     },
     "execution_count": 64,
     "metadata": {},
     "output_type": "execute_result"
    }
   ],
   "source": [
    "model_DTR.score(X_test,y_test)"
   ]
  },
  {
   "cell_type": "code",
   "execution_count": 65,
   "id": "c3c2c4f1",
   "metadata": {},
   "outputs": [
    {
     "data": {
      "text/plain": [
       "1.0"
      ]
     },
     "execution_count": 65,
     "metadata": {},
     "output_type": "execute_result"
    }
   ],
   "source": [
    "model_DTR.score(X_train,y_train)"
   ]
  },
  {
   "cell_type": "code",
   "execution_count": 84,
   "id": "492b317c",
   "metadata": {},
   "outputs": [
    {
     "data": {
      "text/plain": [
       "Index(['Ave', 'BF', 'SR', 'Hundereds', 'Fiftys', 'Zeros', 'A Bagai (CAN)',\n",
       "       'A Balbirnie (IRE)', 'A Bhandari (INDIA)', 'A Codrington (CAN)',\n",
       "       ...\n",
       "       'Zakir Hossain (BDESH)', 'Zakir Khan (PAK)', 'Zakiullah Zaki (AFG)',\n",
       "       'Zeeshan Maqsood (OMAN)', 'Zeeshan Siddiqi (CAN)',\n",
       "       'Ziaur Rahman (BDESH)', 'Zulfiqar Ali (EAf)', 'Zulfiqar Babar (PAK)',\n",
       "       'Zulqarnain (PAK)', 'Zulqarnain Haider (PAK)'],\n",
       "      dtype='object', length=2505)"
      ]
     },
     "execution_count": 84,
     "metadata": {},
     "output_type": "execute_result"
    }
   ],
   "source": [
    "X_train.columns"
   ]
  },
  {
   "cell_type": "markdown",
   "id": "deb7c9bf",
   "metadata": {},
   "source": [
    "# Random Forest Regressor"
   ]
  },
  {
   "cell_type": "code",
   "execution_count": 59,
   "id": "b3995bd1",
   "metadata": {},
   "outputs": [],
   "source": [
    "from sklearn.ensemble import RandomForestRegressor"
   ]
  },
  {
   "cell_type": "code",
   "execution_count": 67,
   "id": "baec7206",
   "metadata": {},
   "outputs": [],
   "source": [
    "model_RF=RandomForestRegressor(n_estimators=500)"
   ]
  },
  {
   "cell_type": "code",
   "execution_count": 68,
   "id": "769e49d8",
   "metadata": {},
   "outputs": [
    {
     "data": {
      "text/plain": [
       "RandomForestRegressor(n_estimators=500)"
      ]
     },
     "execution_count": 68,
     "metadata": {},
     "output_type": "execute_result"
    }
   ],
   "source": [
    "model_RF.fit(X_train,y_train)"
   ]
  },
  {
   "cell_type": "code",
   "execution_count": 69,
   "id": "62ba6db6",
   "metadata": {},
   "outputs": [
    {
     "data": {
      "text/plain": [
       "0.8859129800002854"
      ]
     },
     "execution_count": 69,
     "metadata": {},
     "output_type": "execute_result"
    }
   ],
   "source": [
    "model_RF.score(X_test,y_test)"
   ]
  },
  {
   "cell_type": "markdown",
   "id": "ef0cff45",
   "metadata": {},
   "source": [
    "# Prediction Starts\n"
   ]
  },
  {
   "cell_type": "code",
   "execution_count": 82,
   "id": "c1e0f589",
   "metadata": {},
   "outputs": [],
   "source": [
    "def predict_run(Player, Ave, BF, SR,Hundereds,Fiftys,Zeros):    \n",
    "    loc_index = np.where(X.columns==Player)[0][0]\n",
    "\n",
    "    x = np.zeros(len(X.columns))\n",
    "    x[0] = Ave\n",
    "    x[1] = BF\n",
    "    x[2] = SR\n",
    "    x[3] = Hundereds\n",
    "    x[4] = Fiftys\n",
    "    x[5] = Zeros\n",
    "    if loc_index >= 0:\n",
    "        x[loc_index] = 1\n",
    "    return round (model_RF.predict([x])[0])"
   ]
  },
  {
   "cell_type": "code",
   "execution_count": 83,
   "id": "6eca5461",
   "metadata": {},
   "outputs": [
    {
     "data": {
      "text/plain": [
       "46"
      ]
     },
     "execution_count": 83,
     "metadata": {},
     "output_type": "execute_result"
    }
   ],
   "source": [
    "predict_run(\"ST Jayasuriya (Asia/SL)\", 90,20,200,50,100,10)"
   ]
  },
  {
   "cell_type": "code",
   "execution_count": null,
   "id": "23832546",
   "metadata": {},
   "outputs": [],
   "source": []
  }
 ],
 "metadata": {
  "kernelspec": {
   "display_name": "Python 3",
   "language": "python",
   "name": "python3"
  },
  "language_info": {
   "codemirror_mode": {
    "name": "ipython",
    "version": 3
   },
   "file_extension": ".py",
   "mimetype": "text/x-python",
   "name": "python",
   "nbconvert_exporter": "python",
   "pygments_lexer": "ipython3",
   "version": "3.8.8"
  }
 },
 "nbformat": 4,
 "nbformat_minor": 5
}
